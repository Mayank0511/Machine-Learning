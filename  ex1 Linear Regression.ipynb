{
 "cells": [
  {
   "cell_type": "code",
   "execution_count": 1,
   "metadata": {},
   "outputs": [],
   "source": [
    "import numpy as np\n",
    "import matplotlib.pyplot as plt\n",
    "import pandas as pd\n",
    "\n",
    "#WARMUPEXERCISE Example function in python\n",
    "# A = warmUpExercise() is an example function that returns the nxn identity matrix\n",
    "def warmUpExercise(n):\n",
    "    A = np.identity(n)\n",
    "    return A"
   ]
  },
  {
   "cell_type": "code",
   "execution_count": 2,
   "metadata": {},
   "outputs": [
    {
     "data": {
      "text/plain": [
       "array([[1., 0., 0., 0., 0.],\n",
       "       [0., 1., 0., 0., 0.],\n",
       "       [0., 0., 1., 0., 0.],\n",
       "       [0., 0., 0., 1., 0.],\n",
       "       [0., 0., 0., 0., 1.]])"
      ]
     },
     "execution_count": 2,
     "metadata": {},
     "output_type": "execute_result"
    }
   ],
   "source": [
    "warmUpExercise(5)"
   ]
  },
  {
   "cell_type": "code",
   "execution_count": 25,
   "metadata": {},
   "outputs": [],
   "source": [
    "def plotData(x, y):\n",
    "    #PLOTDATA Plots the data points x and y into a new figure \n",
    "    #   PLOTDATA(x,y) plots the data points and gives the figure axes labels of\n",
    "    #   population and profit.\n",
    "\n",
    "    # ====================== YOUR CODE HERE ======================\n",
    "    # Instructions: Plot the training data into a figure using the \n",
    "    #               \"figure\" and \"plot\" commands. Set the axes labels using\n",
    "    #               the \"xlabel\" and \"ylabel\" commands. Assume the \n",
    "    #               population and revenue data have been passed in\n",
    "    #               as the x and y arguments of this function.\n",
    "\n",
    "    plt.scatter(x,y)\n",
    "    plt.xlabel('Population in 10,000s')\n",
    "    plt.ylabel('Profit in $10,000s')\n",
    "    plt.show()\n"
   ]
  },
  {
   "cell_type": "code",
   "execution_count": 34,
   "metadata": {},
   "outputs": [],
   "source": [
    "#- Function to compute the cost of linear regression\n",
    "def computeCost(X, y, theta):\n",
    "    #COMPUTECOST Compute cost for linear regression\n",
    "    #   J = COMPUTECOST(X, y, theta) computes the cost of using theta as the\n",
    "    #   parameter for linear regression to fit the data points in X and y\n",
    "\n",
    "    # Initialize some useful values\n",
    "    m = X.shape[0] # number of training examples\n",
    "\n",
    "    # You need to return the following variables correctly \n",
    "\n",
    "    # ====================== YOUR CODE HERE ======================\n",
    "    # Instructions: Compute the cost of a particular choice of theta\n",
    "    #               You should set J to the cost.\n",
    "    predictions= X @ theta         # @ is for matrix multiplication in python\n",
    "    sqrErrors = np.square(predictions-y)\n",
    "    J =1/(2*m) * np.sum(sqrErrors)\n",
    "\n",
    "    # =========================================================================\n",
    "\n",
    "    return J\n"
   ]
  },
  {
   "cell_type": "code",
   "execution_count": 35,
   "metadata": {},
   "outputs": [],
   "source": [
    "def gradientDescent(X, y, theta, alpha, num_iters):\n",
    "    #GRADIENTDESCENT Performs gradient descent to learn theta\n",
    "    #theta = GRADIENTDESCENT(X, y, theta, alpha, num_iters) updates theta by \n",
    "    #taking num_iters gradient steps with learning rate alpha\n",
    "\n",
    "   #Initialize some useful values\n",
    "    m = len(y) # number of training examples\n",
    "    J_history = np.zeros((num_iters, 1))\n",
    "\n",
    "    for iter in range(0,num_iters):\n",
    "\n",
    "        ''' # ====================== YOUR CODE HERE ======================\n",
    "        # Instructions: Perform a single gradient step on the parameter vector\n",
    "        #               theta. \n",
    "        #\n",
    "        # Hint: While debugging, it can be useful to print out the values\n",
    "        #       of the cost function (computeCost) and gradient here.'''\n",
    "\n",
    "        error = (X @ theta ) - y\n",
    "    \n",
    "        theta = theta - alpha * 1/m * (X.transpose() @ error)\n",
    "\n",
    "\n",
    "    #============================================================\n",
    "    # Save the cost J in every iteration\n",
    "    \n",
    "        J_history[iter] = computeCost(X, y, theta)\n",
    "\n",
    "    return theta, J_history"
   ]
  },
  {
   "cell_type": "code",
   "execution_count": 53,
   "metadata": {},
   "outputs": [
    {
     "name": "stdout",
     "output_type": "stream",
     "text": [
      "Running warmUpExercise ... \n",
      "\n",
      "5x5 Identity Matrix: \n",
      "\n"
     ]
    },
    {
     "data": {
      "image/png": "[encoded data removed]",
      "text/plain": [
       "<Figure size 432x288 with 1 Axes>"
      ]
     },
     "metadata": {
      "needs_background": "light"
     },
     "output_type": "display_data"
    },
    {
     "name": "stdout",
     "output_type": "stream",
     "text": [
      "\n",
      "Testing the cost function ...\n",
      "\n",
      "With theta = [0 ; 0]\n",
      "Cost computed = %f\n",
      " 32.072733877455676\n",
      "Expected cost value (approx) 32.07\n",
      "\n",
      "True\n",
      "\n",
      "With theta = [-1 ; 2]\n",
      "Cost computed = %f\n",
      " 54.24245508201238\n",
      "Expected cost value (approx) 54.24\n",
      "\n",
      "\n",
      "Running Gradient Descent ...\n",
      "\n",
      "Theta found by gradient descent:\n",
      "\n",
      "%f\n",
      " [[-3.63029144]\n",
      " [ 1.16636235]]\n",
      "Expected theta values (approx)\n",
      "\n",
      " -3.6303\n",
      "  1.1664\n",
      "\n",
      "\n"
     ]
    },
    {
     "data": {
      "image/png": "[encoded data removed]",
      "text/plain": [
       "<Figure size 432x288 with 1 Axes>"
      ]
     },
     "metadata": {
      "needs_background": "light"
     },
     "output_type": "display_data"
    },
    {
     "name": "stdout",
     "output_type": "stream",
     "text": [
      "For population = 35,000, we predict a profit of %f\n",
      ",..... [4519.7678677]\n",
      "For population = 70,000, we predict a profit of %f\n",
      "..... [45342.45012945]\n"
     ]
    }
   ],
   "source": [
    "# Complete warmUpExercise.m\n",
    "print('Running warmUpExercise ... \\n')\n",
    "print('5x5 Identity Matrix: \\n')\n",
    "warmUpExercise(5)\n",
    "\n",
    "\n",
    "# ======================= Part 2: Plotting =======================\n",
    "\n",
    "file_as_array = np.loadtxt(\"ex1data1.txt\",comments = \"#\", delimiter = \",\",unpack = False)\n",
    "#file_as_array.shape\n",
    "\n",
    "x = file_as_array[:,:-1]\n",
    "y = file_as_array[:, 1:]\n",
    "plotData(x, y)\n",
    "\n",
    "#=================== Part 3: Cost and Gradient descent ===================\n",
    "m = len(y)\n",
    "X = np.hstack((np.ones((m,1)), x)) # Add a column of ones to x\n",
    "theta = np.zeros((2, 1)) # initialize fitting parameters\n",
    "#print(X)\n",
    "# Some gradient descent settings\n",
    "iterations = 1500\n",
    "alpha = 0.01\n",
    "\n",
    "print('\\nTesting the cost function ...\\n')\n",
    "#compute and display initial cost\n",
    "J1 = computeCost(X, y, theta)\n",
    "print('With theta = [0 ; 0]\\nCost computed = %f\\n', J1)\n",
    "print('Expected cost value (approx) 32.07\\n')\n",
    "\n",
    "# further testing of the cost function\n",
    "p = np.array([[-1 ],[2]])\n",
    "print(theta.shape==p.shape)\n",
    "J2 = computeCost(X, y, p)\n",
    "print('\\nWith theta = [-1 ; 2]\\nCost computed = %f\\n', J2)\n",
    "print('Expected cost value (approx) 54.24\\n')\n",
    "\n",
    "print('\\nRunning Gradient Descent ...\\n')\n",
    "# run gradient descent\n",
    "theta,J_history = gradientDescent(X, y, theta, alpha, iterations)\n",
    "\n",
    "# print theta to screen\n",
    "print('Theta found by gradient descent:\\n');\n",
    "print('%f\\n', theta)\n",
    "print('Expected theta values (approx)\\n')\n",
    "print(' -3.6303\\n  1.1664\\n\\n')\n",
    "\n",
    "# Plot the linear fit\n",
    "#hold on; % keep previous plot visible\n",
    "plt.plot(X[:,1:2], X@theta, '-')\n",
    "plt.scatter(x,y,color='r')\n",
    "plt.xlabel('Population in 10,000s')\n",
    "plt.ylabel('Profit in $10,000s')\n",
    "plt.show()\n",
    "#hold off % don't overlay any more plots on this figure\n",
    "\n",
    "# Predict values for population sizes of 35,000 and 70,000\n",
    "predict1 = [1, 3.5] @ theta\n",
    "print('For population = 35,000, we predict a profit of %f\\n,.....',predict1*10000)\n",
    "predict2 = [1, 7] @ theta\n",
    "print('For population = 70,000, we predict a profit of %f\\n.....', predict2*10000)\n",
    "\n",
    "\n",
    "#% ============= Part 4: Visualizing J(theta_0, theta_1) =============\n",
    "#print('Visualizing J(theta_0, theta_1) ...\\n')\n",
    "\n",
    "#Grid over which we will calculate J\n",
    "#theta0_vals = np.linspace(-10, 10, 100)\n",
    "#theta1_vals = np.linspace(-1, 4, 100)\n",
    "\n",
    "# initialize J_vals to a matrix of 0's\n",
    "#J_vals = np.zeros((len(theta0_vals), len(theta1_vals)))\n",
    "\n",
    "# Fill out J_vals\n",
    "#for i in range(0,len(theta0_vals)):\n",
    "   # for j in range(0,len(theta1_vals)):\n",
    "  #      t = [theta0_vals[i], theta1_vals[j]]\n",
    " #       J_vals[i,j] = computeCost(X, y, t)\n",
    "#\n",
    "\n",
    "# Because of the way meshgrids work in the surf command, we need to\n",
    "# transpose J_vals before calling surf, or else the axes will be flipped\n",
    "# Surface plot\n",
    "#fig=plt.figure()\n",
    "#ax = plt.axes(projection = '3d')\n",
    "\n",
    "#ax.plot_surface(theta0_vals, theta1_vals, J_vals, cmap='viridis',edgecolor='none')\n",
    "#plt.xlabel('theta_0')\n",
    "#plt.ylabel('theta_1')\n",
    "#plt.show()\n",
    "# Contour plot\n",
    "#plt.figure()\n",
    "# Plot J_vals as 15 contours spaced logarithmically between 0.01 and 100\n",
    "#contour(theta0_vals, theta1_vals, J_vals, logspace(-2, 3, 20))\n",
    "#xlabel('\\theta_0'); ylabel('\\theta_1');\n",
    "#hold on;\n",
    "#plot(theta(1), theta(2), 'rx', 'MarkerSize', 10, 'LineWidth', 2);"
   ]
  },
  {
   "cell_type": "code",
   "execution_count": null,
   "metadata": {},
   "outputs": [],
   "source": []
  }
 ],
 "metadata": {
  "kernelspec": {
   "display_name": "Python 3",
   "language": "python",
   "name": "python3"
  },
  "language_info": {
   "codemirror_mode": {
    "name": "ipython",
    "version": 3
   },
   "file_extension": ".py",
   "mimetype": "text/x-python",
   "name": "python",
   "nbconvert_exporter": "python",
   "pygments_lexer": "ipython3",
   "version": "3.8.3"
  }
 },
 "nbformat": 4,
 "nbformat_minor": 4
}
